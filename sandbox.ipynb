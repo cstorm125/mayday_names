{
 "cells": [
  {
   "cell_type": "code",
   "execution_count": 46,
   "metadata": {},
   "outputs": [],
   "source": [
    "from bs4 import BeautifulSoup\n",
    "import pandas as pd\n",
    "import requests"
   ]
  },
  {
   "cell_type": "code",
   "execution_count": 56,
   "metadata": {},
   "outputs": [
    {
     "name": "stdout",
     "output_type": "stream",
     "text": [
      "มีชื่อทั้งหมด 1210 รายชื่อ\n"
     ]
    }
   ],
   "source": [
    "#scrape from progressivemovement\n",
    "with requests.get('https://progressivemovement.in.th/maydaymayday/') as r:\n",
    "    soup = BeautifulSoup(r.content)\n",
    "\n",
    "#get all names    \n",
    "letters  = soup.find('div',class_='entry-content').find_all('p')[5:]\n",
    "all_names = []\n",
    "for l in letters:\n",
    "    all_names+=str(l).replace('<p>','').replace('</p>','').split('<br/>')\n",
    "print(f'มีชื่อต้น-นามสกุลทั้งหมด {len(all_names)} รายชื่อ')"
   ]
  },
  {
   "cell_type": "code",
   "execution_count": 58,
   "metadata": {},
   "outputs": [
    {
     "name": "stdout",
     "output_type": "stream",
     "text": [
      "มีชื่อต้น-นามสกุลที่ไม่ซ้ำกันทั้งหมด (1210, 3) รายชื่อจากทั้งหมด 1210 รายชื่อ\n",
      "มีชื่อต้นที่ไม่ซ้ำกันทั้งหมด 1037 รายชื่อ\n",
      "มีนามสกุลที่ไม่ซ้ำกันทั้งหมด 1209 รายชื่อ\n"
     ]
    }
   ],
   "source": [
    "df = pd.DataFrame({'user':all_names})\n",
    "df['first_name'] = df.user.map(lambda x: x.split()[0] if len(x.split())>1 else x)\n",
    "df['last_name'] = df.user.map(lambda x: x.split()[1] if len(x.split())>1 else x)\n",
    "print(f'''มีชื่อต้น-นามสกุลที่ไม่ซ้ำกันทั้งหมด {df.drop_duplicates().shape} รายชื่อจากทั้งหมด {df.shape[0]} รายชื่อ\n",
    "มีชื่อต้นที่ไม่ซ้ำกันทั้งหมด {df.first_name.nunique()} รายชื่อ\n",
    "มีนามสกุลที่ไม่ซ้ำกันทั้งหมด {df.last_name.nunique()} รายชื่อ''')"
   ]
  },
  {
   "cell_type": "code",
   "execution_count": 44,
   "metadata": {},
   "outputs": [],
   "source": []
  },
  {
   "cell_type": "code",
   "execution_count": null,
   "metadata": {},
   "outputs": [],
   "source": []
  }
 ],
 "metadata": {
  "hide_input": false,
  "kernelspec": {
   "display_name": "Python 3",
   "language": "python",
   "name": "python3"
  },
  "language_info": {
   "codemirror_mode": {
    "name": "ipython",
    "version": 3
   },
   "file_extension": ".py",
   "mimetype": "text/x-python",
   "name": "python",
   "nbconvert_exporter": "python",
   "pygments_lexer": "ipython3",
   "version": "3.7.3"
  }
 },
 "nbformat": 4,
 "nbformat_minor": 4
}
