{
  "nbformat": 4,
  "nbformat_minor": 0,
  "metadata": {
    "hide_input": false,
    "kernelspec": {
      "display_name": "Python 3",
      "language": "python",
      "name": "python3"
    },
    "language_info": {
      "codemirror_mode": {
        "name": "ipython",
        "version": 3
      },
      "file_extension": ".py",
      "mimetype": "text/x-python",
      "name": "python",
      "nbconvert_exporter": "python",
      "pygments_lexer": "ipython3",
      "version": "3.7.3"
    },
    "colab": {
      "name": "sandbox.ipynb",
      "provenance": []
    }
  },
  "cells": [
    {
      "cell_type": "code",
      "metadata": {
        "id": "ZMD3OVo9Tvtu",
        "colab_type": "code",
        "colab": {}
      },
      "source": [
        "from bs4 import BeautifulSoup\n",
        "import pandas as pd\n",
        "import requests"
      ],
      "execution_count": 4,
      "outputs": []
    },
    {
      "cell_type": "code",
      "metadata": {
        "id": "FUkkoFcZTvty",
        "colab_type": "code",
        "colab": {
          "base_uri": "https://localhost:8080/",
          "height": 35
        },
        "outputId": "bd5d2209-7532-417c-8dbb-699b76611856"
      },
      "source": [
        "#scrape from maydaymayday\n",
        "with requests.get('https://progressivemovement.in.th/maydaymayday/') as r:\n",
        "    soup = BeautifulSoup(r.content)\n",
        "\n",
        "#get all names    \n",
        "letters  = soup.find('div',class_='entry-content').find_all('p')[5:]\n",
        "all_names = []\n",
        "for l in letters:\n",
        "    all_names+=str(l).replace('<p>','').replace('</p>','').split('<br/>')\n",
        "print(f'มีชื่อต้น-นามสกุลทั้งหมด {len(all_names)} รายชื่อ')"
      ],
      "execution_count": 5,
      "outputs": [
        {
          "output_type": "stream",
          "text": [
            "มีชื่อต้น-นามสกุลทั้งหมด 1210 รายชื่อ\n"
          ],
          "name": "stdout"
        }
      ]
    },
    {
      "cell_type": "code",
      "metadata": {
        "id": "9URKr9THTvt1",
        "colab_type": "code",
        "colab": {
          "base_uri": "https://localhost:8080/",
          "height": 70
        },
        "outputId": "01f6228a-21a4-49d8-ada4-67031585f80f"
      },
      "source": [
        "df = pd.DataFrame({'user':all_names})\n",
        "df['first_name'] = df.user.map(lambda x: x.split()[0] if len(x.split())>1 else x)\n",
        "df['last_name'] = df.user.map(lambda x: x.split()[1] if len(x.split())>1 else x)\n",
        "print(f'''มีชื่อต้น-นามสกุลที่ไม่ซ้ำกันทั้งหมด {df.drop_duplicates().shape[0]} รายชื่อจากทั้งหมด {df.shape[0]} รายชื่อ\n",
        "มีชื่อต้นที่ไม่ซ้ำกันทั้งหมด {df.first_name.nunique()} รายชื่อ\n",
        "มีนามสกุลที่ไม่ซ้ำกันทั้งหมด {df.last_name.nunique()} รายชื่อ''')"
      ],
      "execution_count": 7,
      "outputs": [
        {
          "output_type": "stream",
          "text": [
            "มีชื่อต้น-นามสกุลที่ไม่ซ้ำกันทั้งหมด 1210 รายชื่อจากทั้งหมด 1210 รายชื่อ\n",
            "มีชื่อต้นที่ไม่ซ้ำกันทั้งหมด 1037 รายชื่อ\n",
            "มีนามสกุลที่ไม่ซ้ำกันทั้งหมด 1209 รายชื่อ\n"
          ],
          "name": "stdout"
        }
      ]
    },
    {
      "cell_type": "code",
      "metadata": {
        "id": "gSQQopSSTvt8",
        "colab_type": "code",
        "colab": {
          "base_uri": "https://localhost:8080/",
          "height": 35
        },
        "outputId": "2ae6305a-fe4f-4f83-e5bb-bcab7b03ddef"
      },
      "source": [
        "#scrape from projectmaydaymayday\n",
        "with requests.get('https://progressivemovement.in.th/projectmaydaymayday/') as r:\n",
        "    soup = BeautifulSoup(r.content)\n",
        "\n",
        "#get all names    \n",
        "letters  = soup.find('div',class_='entry-content').find_all('p')[1:]\n",
        "all_names = []\n",
        "for l in letters:\n",
        "    all_names+=str(l).replace('<p>','').replace('</p>','').split('<br/>')\n",
        "print(f'มีชื่อต้น-นามสกุลทั้งหมด {len(all_names)} รายชื่อ')"
      ],
      "execution_count": 13,
      "outputs": [
        {
          "output_type": "stream",
          "text": [
            "มีชื่อต้น-นามสกุลทั้งหมด 2442 รายชื่อ\n"
          ],
          "name": "stdout"
        }
      ]
    },
    {
      "cell_type": "code",
      "metadata": {
        "id": "JwiHdDKIUcNx",
        "colab_type": "code",
        "colab": {
          "base_uri": "https://localhost:8080/",
          "height": 70
        },
        "outputId": "8e93fb7c-c243-498b-fc73-37741f77b453"
      },
      "source": [
        "df = pd.DataFrame({'user':all_names})\n",
        "df = df[df.user!='“'].reset_index(drop=True)\n",
        "df['first_name'] = df.user.map(lambda x: x.split()[0] if len(x.split())>1 else x)\n",
        "df['last_name'] = df.user.map(lambda x: x.split()[1] if len(x.split())>1 else x)\n",
        "print(f'''มีชื่อต้น-นามสกุลที่ไม่ซ้ำกันทั้งหมด {df.drop_duplicates().shape[0]} รายชื่อจากทั้งหมด {df.shape[0]} รายชื่อ\n",
        "มีชื่อต้นที่ไม่ซ้ำกันทั้งหมด {df.first_name.nunique()} รายชื่อ\n",
        "มีนามสกุลที่ไม่ซ้ำกันทั้งหมด {df.last_name.nunique()} รายชื่อ''')"
      ],
      "execution_count": 20,
      "outputs": [
        {
          "output_type": "stream",
          "text": [
            "มีชื่อต้น-นามสกุลที่ไม่ซ้ำกันทั้งหมด 2428 รายชื่อจากทั้งหมด 2428 รายชื่อ\n",
            "มีชื่อต้นที่ไม่ซ้ำกันทั้งหมด 1926 รายชื่อ\n",
            "มีนามสกุลที่ไม่ซ้ำกันทั้งหมด 2426 รายชื่อ\n"
          ],
          "name": "stdout"
        }
      ]
    },
    {
      "cell_type": "code",
      "metadata": {
        "id": "QMVonQfMUuAE",
        "colab_type": "code",
        "colab": {}
      },
      "source": [
        ""
      ],
      "execution_count": null,
      "outputs": []
    }
  ]
}